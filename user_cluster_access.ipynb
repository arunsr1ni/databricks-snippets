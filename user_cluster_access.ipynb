{
 "cells": [
  {
   "cell_type": "code",
   "execution_count": 0,
   "metadata": {
    "application/vnd.databricks.v1+cell": {
     "cellMetadata": {
      "byteLimit": 2048000,
      "rowLimit": 10000
     },
     "inputWidgets": {},
     "nuid": "56319af0-57e8-4afc-ae12-171c669876b3",
     "showTitle": false,
     "tableResultSettingsMap": {},
     "title": ""
    }
   },
   "outputs": [],
   "source": [
    "%python\n",
    "#cycle through cluster policies and list user permissions in a json\n",
    "import requests\n",
    "#use the following code to pull the PAT from Azure KV - uncomment to use\n",
    "#pat_token = dbutils.secrets.get(scope = \"arun_pat\", key = \"pat\")\n",
    "\n",
    "workspace_url = \"https://adb-7291082826826947.7.azuredatabricks.net\"\n",
    "#To test \n",
    "#pat_token = \"<Add PAT token to test>\"\n",
    "\n",
    "response = requests.get(\n",
    "    f\"{workspace_url}/api/2.0/policies/clusters/list\",\n",
    "    headers={\"Authorization\": f\"Bearer {pat_token}\"}\n",
    ")\n",
    "acl_list=[]\n",
    "#loop through every policy from the results list\n",
    "for policy in response.json().get('policies'):\n",
    "    policy_id=policy['policy_id']\n",
    "    response_policy = requests.get(\n",
    "        f\"{workspace_url}/api/2.0/permissions/cluster-policies/{policy_id}\",\n",
    "        headers={\"Authorization\": f\"Bearer {pat_token}\"}\n",
    "    )\n",
    "\n",
    "    for acl in response_policy.json().get('access_control_list'):\n",
    "        permissions_list=[]\n",
    "        for permissions in acl.get('all_permissions'):\n",
    "            permissions_list.append(permissions.get('permission_level'))\n",
    "        acl_list.append({'policy_id':policy['policy_id'], 'policy_name':policy['name'],'group_name':acl.get('group_name'), 'permissions':permissions_list})\n",
    "acl_list"
   ]
  },
  {
   "cell_type": "code",
   "execution_count": 0,
   "metadata": {
    "application/vnd.databricks.v1+cell": {
     "cellMetadata": {
      "byteLimit": 2048000,
      "rowLimit": 10000
     },
     "inputWidgets": {},
     "nuid": "5c1580b0-b4c2-4326-8380-fe3ab5c47c45",
     "showTitle": false,
     "tableResultSettingsMap": {},
     "title": ""
    }
   },
   "outputs": [],
   "source": [
    "%python\n",
    "#cycle through cluster policies and list user permissions in a json\n",
    "import requests\n",
    "#use the following code to pull the PAT from Azure KV - uncomment to use\n",
    "#pat_token = dbutils.secrets.get(scope = \"arun_pat\", key = \"pat\")\n",
    "\n",
    "workspace_url = \"https://adb-7291082826826947.7.azuredatabricks.net\"\n",
    "#To test \n",
    "#pat_token = \"<Add PAT token to test>\"\n",
    "\n",
    "workspace_url = \"https://adb-7291082826826947.7.azuredatabricks.net\"\n",
    "pat_token = \"<Add PAT token to test>\"\n",
    "\n",
    "clusters = requests.get(\n",
    "    f\"{workspace_url}/api/2.1/clusters/list\",\n",
    "    headers={\"Authorization\": f\"Bearer {pat_token}\"}\n",
    ")\n",
    "cp_list=[]\n",
    "#loop through every policy from the results list\n",
    "for cluster in clusters.json().get('clusters'):\n",
    "    cluster_id=cluster['cluster_id']\n",
    "    response_permissions = requests.get(\n",
    "        f\"{workspace_url}/api/2.0/permissions/clusters/{cluster_id}\",\n",
    "        headers={\"Authorization\": f\"Bearer {pat_token}\"}\n",
    "    )\n",
    "\n",
    "    for acl in response_permissions.json().get('access_control_list'):\n",
    "        permissions_list=[]\n",
    "        for permissions in acl.get('all_permissions'):\n",
    "            permissions_list.append(permissions.get('permission_level'))\n",
    "        cp_list.append({'cluster_id': cluster_id, 'user_name':acl.get('user_name'),'group_name':acl.get('group_name'), 'service_principal_name':acl.get('service_principal_name'), 'permissions':permissions_list})\n",
    "cp_list"
   ]
  }
 ],
 "metadata": {
  "application/vnd.databricks.v1+notebook": {
   "dashboards": [],
   "environmentMetadata": {
    "base_environment": "",
    "client": "1"
   },
   "language": "python",
   "notebookMetadata": {
    "pythonIndentUnit": 2
   },
   "notebookName": "user_cluster_access",
   "widgets": {}
  },
  "language_info": {
   "name": "python"
  }
 },
 "nbformat": 4,
 "nbformat_minor": 0
}
